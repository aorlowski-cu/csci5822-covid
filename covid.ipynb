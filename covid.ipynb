{
 "cells": [
  {
   "cell_type": "code",
   "execution_count": 6,
   "id": "d9ac8262-d095-4dae-a9c3-1651d7ed33fa",
   "metadata": {},
   "outputs": [],
   "source": [
    "from numpy import genfromtxt\n",
    "import pandas as pd\n",
    "df = pd.read_csv('datasets/hit-covid-longdata.csv')\n"
   ]
  },
  {
   "cell_type": "code",
   "execution_count": 12,
   "id": "3d14b923-9c66-42e5-ae8a-f7cc83474d44",
   "metadata": {},
   "outputs": [
    {
     "name": "stdout",
     "output_type": "stream",
     "text": [
      "Index(['unique_id', 'record_id', 'update', 'entry_time', 'national_entry',\n",
      "       'country', 'country_name', 'admin1', 'admin1_name', 'locality',\n",
      "       'usa_county', 'usa_county_code', 'intervention_group',\n",
      "       'intervention_name', 'date_of_update', 'status', 'status_simp',\n",
      "       'subpopulation', 'required', 'reduced_capacity', 'symp_screening',\n",
      "       'enforcement', 'size', 'duration', 'testing_population', 'details',\n",
      "       'url', 'source_document_url', 'entry_quality',\n",
      "       'intervention_group_aggregated'],\n",
      "      dtype='object')\n"
     ]
    },
    {
     "data": {
      "text/plain": [
       "intervention_group_aggregated\n",
       "space_closure                    2499\n",
       "social_restrictions               307\n",
       "store_closed                      113\n",
       "testing_screening                  94\n",
       "state_of_emergency                 61\n",
       "nan                                53\n",
       "mask                               49\n",
       "dtype: int64"
      ]
     },
     "execution_count": 12,
     "metadata": {},
     "output_type": "execute_result"
    }
   ],
   "source": [
    "# Data manipulation\n",
    "import math\n",
    "\n",
    "def get_aggregated_intervention_group(group):\n",
    "    if group in ['state_of_emergency', 'mask']:\n",
    "        return group\n",
    "    if group in ['household_confined', 'office_closed', 'entertainment_closed', 'public_space_closed', \n",
    "                'restaurant_closed', 'school_closed', 'nursing_home_closed', 'religion_closed', 'public_transport_closed']:\n",
    "        return 'space_closure'\n",
    "    if group in ['social_group_limits', 'contact_tracing', 'enforcement_deployed', 'closed_border', 'quar_iso', 'limited_mvt']:\n",
    "        return 'social_restrictions'\n",
    "    if group in ['testing_symp', 'testing_asymp', 'symp_screening']:\n",
    "        return 'testing_screening'\n",
    "    if not isinstance(group, str):\n",
    "        return 'nan'\n",
    "    return 'no_aggregation-'.join([group])\n",
    "\n",
    "df = df.loc[df['country'] == 'USA']\n",
    "print(df.keys())\n",
    "#df['intervention_group_aggregated'] = df.apply(lambda x: get_aggregated_intervention_group(x['intervention_group']), axis=1)\n",
    "df['intervention_group_aggregated'] = df['intervention_group'].apply(get_aggregated_intervention_group)\n",
    "df.value_counts(subset=['intervention_group_aggregated']) "
   ]
  },
  {
   "cell_type": "code",
   "execution_count": null,
   "id": "b2865e66-bde6-482b-8f9d-bdf5d7ac93de",
   "metadata": {},
   "outputs": [],
   "source": []
  }
 ],
 "metadata": {
  "kernelspec": {
   "display_name": "Python 3 (ipykernel)",
   "language": "python",
   "name": "python3"
  },
  "language_info": {
   "codemirror_mode": {
    "name": "ipython",
    "version": 3
   },
   "file_extension": ".py",
   "mimetype": "text/x-python",
   "name": "python",
   "nbconvert_exporter": "python",
   "pygments_lexer": "ipython3",
   "version": "3.10.8"
  }
 },
 "nbformat": 4,
 "nbformat_minor": 5
}
